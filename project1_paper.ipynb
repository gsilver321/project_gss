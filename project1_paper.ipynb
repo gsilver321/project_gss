{
  "nbformat": 4,
  "nbformat_minor": 0,
  "metadata": {
    "colab": {
      "provenance": [],
      "include_colab_link": true
    },
    "kernelspec": {
      "name": "python3",
      "display_name": "Python 3"
    },
    "language_info": {
      "name": "python"
    }
  },
  "cells": [
    {
      "cell_type": "markdown",
      "metadata": {
        "id": "view-in-github",
        "colab_type": "text"
      },
      "source": [
        "<a href=\"https://colab.research.google.com/github/gsilver321/project_gss/blob/main/project1_paper.ipynb\" target=\"_parent\"><img src=\"https://colab.research.google.com/assets/colab-badge.svg\" alt=\"Open In Colab\"/></a>"
      ]
    },
    {
      "cell_type": "markdown",
      "source": [
        "# Project 1 GSS Paper\n",
        "### DS 3001: Foundations of Machine Learning\n",
        "### Gabe Silverstein, Rohan Chowla, Evan Stewart, and Rithwik Raman"
      ],
      "metadata": {
        "id": "QgTji24zS5BU"
      }
    },
    {
      "cell_type": "markdown",
      "source": [
        "## Summary\n",
        "\n",
        "A one paragraph description of the question, methods, and results (about 350 words)"
      ],
      "metadata": {
        "id": "POhWBxzNWtVO"
      }
    },
    {
      "cell_type": "markdown",
      "source": [
        "## Data\n",
        "\n",
        "One to two pages discussing the data and key variables in the analysis, and any challenges in reading, cleaning, and preparing them for analysis"
      ],
      "metadata": {
        "id": "PHgCJ9rQW2DC"
      }
    },
    {
      "cell_type": "code",
      "source": [],
      "metadata": {
        "id": "YwrX93QXW1Uz"
      },
      "execution_count": null,
      "outputs": []
    },
    {
      "cell_type": "markdown",
      "source": [
        "## Results\n",
        "\n",
        "Two to five pages providing visualizations, statistics, and a discussion of your findings. If you have a lot of plots or tables, that’s OK, but try to focus on a few key pieces of evidence rather than doing every single pairwise comparison of some set of variables"
      ],
      "metadata": {
        "id": "5BX8qd1wXKPh"
      }
    },
    {
      "cell_type": "code",
      "source": [],
      "metadata": {
        "id": "8xqNqGUKXQRb"
      },
      "execution_count": null,
      "outputs": []
    },
    {
      "cell_type": "markdown",
      "source": [
        "## Conclusion\n",
        "\n",
        "One to two pages summarizing the project, defending it from criticism, and suggesting additional work that was outside the scope of the project"
      ],
      "metadata": {
        "id": "k6lMuxUWXRB8"
      }
    }
  ]
}